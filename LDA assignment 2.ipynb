{
 "cells": [
  {
   "cell_type": "code",
   "execution_count": 1,
   "metadata": {
    "collapsed": true
   },
   "outputs": [],
   "source": [
    "import xlrd\n",
    "import xlwt\n",
    "data = xlrd.open_workbook(\"/Applications/anaconda3/SFE_Dataset.xlsx\")\n",
    "data.sheet_names()\n",
    "table = data.sheet_by_name('SFE Dataset')\n",
    "rownum = table.nrows\n",
    "colnum = table.ncols\n",
    "newdata = xlwt.Workbook()\n",
    "#Preprocess0: remove the middle values\n",
    "new = newdata.add_sheet('preprocess0')\n",
    "l = 0\n",
    "for i in range(1,rownum):\n",
    "    temprow = table.row_values(i)\n",
    "    num = temprow[-1]\n",
    "    if num >= 45 or num <= 35:\n",
    "        for j in range(colnum):\n",
    "            new.write(l,j,temprow[j])\n",
    "        l += 1\n",
    "#Preprocess1: discard all predictors that do not have at least 60% nonzero values\n",
    "newdata = xlrd.open_workbook('newdata.xls')\n",
    "new = newdata.add_sheet('preprocess0')\n",
    "colnum = new.ncols\n",
    "rownum = new.nrows\n",
    "l = 0\n",
    "for i in range(colnum):\n",
    "    tempcol = new.col_values(i)\n",
    "    num = tempcol.count(0)\n",
    "    if (num/(rownum-1)<=0.4):\n",
    "        for j in range(rownum):\n",
    "            new.write(j,l,tempcol[j])\n",
    "        l += 1\n",
    "#Preprocess2: remove the rows (samples) that contain any zero values\n",
    "newdata1 = xlrd.open_workbook('newdata.xls')\n",
    "new1 = newdata1.sheet_by_name('preprocess1')\n",
    "newcolnum = new1.ncols\n",
    "newrownum = new1.nrows\n",
    "new = newdata.add_sheet('preprocess2')\n",
    "l = 0\n",
    "for i in range(newrownum):\n",
    "    temprow = new1.row_values(i)\n",
    "    num = temprow.count(0)\n",
    "    if num == 0:\n",
    "        for j in range(newcolnum):\n",
    "            new.write(l,j,temprow[j])\n",
    "        l += 1\n",
    "#Preprocess3: remove the samples whose SFE locates between 35-45.\n",
    "newdata2 = xlrd.open_workbook('newdata.xls')\n",
    "new2 = newdata1.sheet_by_name('preprocess2')\n",
    "newcolnum = new2.ncols\n",
    "newrownum = new2.nrows\n",
    "new = newdata.add_sheet('preprocess3')\n",
    "l = 0\n",
    "for i in range(1,newrownum):\n",
    "    temprow = new2.row_values(i)\n",
    "    num = temprow[-1]\n",
    "    if num >= 45 or num <= 35:\n",
    "        for j in range(newcolnum):\n",
    "            new.write(l,j,temprow[j])\n",
    "        l += 1\n",
    "\n",
    "newdata.save('newdata.xls')\n",
    "# After preprocessing,number of total samples is 126 and number of \n",
    "# predictors is 7."
   ]
  },
  {
   "cell_type": "code",
   "execution_count": null,
   "metadata": {
    "collapsed": true
   },
   "outputs": [],
   "source": []
  },
  {
   "cell_type": "code",
   "execution_count": null,
   "metadata": {
    "collapsed": true
   },
   "outputs": [],
   "source": []
  },
  {
   "cell_type": "code",
   "execution_count": 2,
   "metadata": {},
   "outputs": [
    {
     "name": "stdout",
     "output_type": "stream",
     "text": [
      "[4, 20, 25, 46, 24, 29, 80, 124, 59, 125, 59, 42, 51, 16, 115, 67, 119, 7, 69, 79, 69, 25, 42, 116, 53]\n",
      "[115, 100, 91, 69, 43, 92, 48, 100, 60, 29, 72, 123, 32, 20, 103, 25, 38, 75, 56, 2, 27, 109, 85, 124, 37]\n"
     ]
    }
   ],
   "source": [
    "#group data into training data and sample data\n",
    "import random\n",
    "import xlrd\n",
    "import xlwt\n",
    "\n",
    "#import data after preprocess\n",
    "data = xlrd.open_workbook('newdata.xls')\n",
    "new = data.sheet_by_name('preprocess3')\n",
    "colnum = new.ncols\n",
    "rownum = new.nrows\n",
    "\n",
    "# temp is the list of samples' sfe values.\n",
    "temp = new.col_values(-1)\n",
    "\n",
    "#Keep selecting training samples unless it meets the requirment.\n",
    "while 1:\n",
    "    sfe = []\n",
    "    l = []\n",
    "    l = [random.randint(0,126) for _ in range(25)]\n",
    "    print(l)\n",
    "    for i in l:\n",
    "        if temp[i] <= 35:\n",
    "            sfe.append(0)\n",
    "        else:\n",
    "            sfe.append(1)\n",
    "    if sfe.count(0)/25 <=0.55 and sfe.count(1)/25 <= 0.55:\n",
    "        break\n",
    "        \n",
    "#Devide training samples into two groups. Group0 and group1.\n",
    "L0,L1 = [],[]\n",
    "for i in range(25):\n",
    "    temprow = new.row_values(l[i])\n",
    "    if sfe[i] == 0:\n",
    "        L0.append(temprow)\n",
    "    elif sfe[i] == 1:\n",
    "        L1.append(temprow)\n",
    "newdata.save('newdata.xls')       "
   ]
  },
  {
   "cell_type": "code",
   "execution_count": 132,
   "metadata": {
    "collapsed": true
   },
   "outputs": [],
   "source": [
    "#write Statistic T function\n",
    "from numpy import*\n",
    "import numpy as np\n",
    "import math\n",
    "def T(xa,xb):\n",
    "    na = len(xa)\n",
    "    nb = len(xb)\n",
    "    ua = np.mean(xa)\n",
    "    ub = np.mean(xb)\n",
    "    va = np.var(xa)\n",
    "    vb = np.var(xb)\n",
    "    t = (ua-ub)/math.sqrt(va/na+vb/nb)\n",
    "    return abs(t)\n",
    "#Caculate T-values of 7 predictors\n",
    "pdset0 = mat(L0).T\n",
    "pdset1 = mat(L1).T\n",
    "tvalue = []\n",
    "for i in range(8):\n",
    "    tvalue.append(T(pdset0[i],pdset1[i]))\n"
   ]
  },
  {
   "cell_type": "code",
   "execution_count": 133,
   "metadata": {},
   "outputs": [
    {
     "name": "stdout",
     "output_type": "stream",
     "text": [
      "[0.4508978890950614, 0.16832985484594901, 1.5966637670020243, 2.375185908674172, 0.1325590621931369, 0.63786335973775599, 0.21773859919166474, 5.1959294227052046]\n"
     ]
    }
   ],
   "source": [
    "print(tvalue)"
   ]
  },
  {
   "cell_type": "code",
   "execution_count": 136,
   "metadata": {},
   "outputs": [
    {
     "name": "stdout",
     "output_type": "stream",
     "text": [
      "[0.3270062819511077, 0.43350143136668429, 0.058321189420929676, 0.010708013186131571, 0.44753707362691419, 0.26323660142269389, 0.41425947754395243, 1.8828312701169025e-06]\n"
     ]
    }
   ],
   "source": [
    "#Caculate p-value\n",
    "from scipy import stats\n",
    "pvalue = []\n",
    "for t in tvalue:\n",
    "    p = 1 - stats.t.cdf(t,50)\n",
    "    pvalue.append(p)\n",
    "print(pvalue)"
   ]
  },
  {
   "cell_type": "code",
   "execution_count": 216,
   "metadata": {
    "collapsed": true
   },
   "outputs": [],
   "source": [
    "import xlrd\n",
    "import xlwt\n",
    "newdata3 = xlrd.open_workbook('newdata.xls')\n",
    "new3 = newdata1.sheet_by_name('preprocess3')\n",
    "newcolnum = new3.ncols\n",
    "newrownum = new3.nrows\n",
    "samples = xlwt.Workbook()\n",
    "#Creat a new sheet for training data.\n",
    "new = samples.add_sheet('training data')\n",
    "a = 0\n",
    "for i in range(25):\n",
    "    temprow = new3.row_values(l[i])\n",
    "    for j in range(newcolnum):\n",
    "        new.write(a,j,temprow[j])\n",
    "    a += 1\n",
    "#Creat a new sheet for testing data.\n",
    "new = samples.add_sheet('testing data')\n",
    "ltest = []\n",
    "for i in range(126):\n",
    "    if i not in l:\n",
    "        ltest.append(i)\n",
    "b = 0\n",
    "for i in range(len(ltest)):\n",
    "    temprow = new3.row_values(ltest[i])\n",
    "    for j in range(newcolnum):\n",
    "        new.write(b,j,temprow[j])\n",
    "    b += 1\n",
    "#Import data from testing data.\n",
    "Ltest0,Ltest1,Ltest03,Ltest13,Ltest04,Ltest14,Ltest05,Ltest15 = [],[],[],[],[],[],[],[]\n",
    "newdata = xlrd.open_workbook('samples.xls')\n",
    "test = newdata.sheet_by_name('testing data')\n",
    "testcolnum = test.ncols\n",
    "testrownum = test.nrows\n",
    "for i in range(testrownum):\n",
    "    temprow = test.row_values(i)\n",
    "    if temprow[-1] <= 35:\n",
    "        Ltest0.append([temprow[2],temprow[3]])\n",
    "        Ltest03.append([temprow[2],temprow[3],temprow[5]])\n",
    "        Ltest04.append([temprow[2],temprow[3],temprow[5],temprow[0]])\n",
    "        Ltest05.append([temprow[2],temprow[3],temprow[5],temprow[0],temprow[6]])\n",
    "    else:\n",
    "        Ltest1.append([temprow[2],temprow[3]])\n",
    "        Ltest13.append([temprow[2],temprow[3],temprow[5]])\n",
    "        Ltest14.append([temprow[2],temprow[3],temprow[5],temprow[0]])\n",
    "        Ltest15.append([temprow[2],temprow[3],temprow[5],temprow[0],temprow[6]])\n",
    "samples.save('samples.xls')"
   ]
  },
  {
   "cell_type": "code",
   "execution_count": 217,
   "metadata": {},
   "outputs": [
    {
     "data": {
      "text/plain": [
       "[[15.6, 64.317, 0.02, 0.004, 17.5],\n",
       " [14.0, 66.409, 0.01, 0.02, 17.1],\n",
       " [15.6, 63.866, 0.01, 0.005, 17.7],\n",
       " [15.32, 64.4774, 0.01, 0.0006, 17.7],\n",
       " [15.4, 69.1557, 0.02, 0.003, 13.09],\n",
       " [15.65, 64.9178, 0.03, 0.074, 17.02],\n",
       " [15.56, 65.0561, 0.03, 0.002, 16.95],\n",
       " [15.51, 66.9658, 1.82, 0.003, 13.35],\n",
       " [19.85, 52.98, 1.08, 0.05, 24.11],\n",
       " [7.58, 64.718, 0.17, 0.033, 18.8],\n",
       " [16.3, 54.698, 0.45, 0.03, 18.48],\n",
       " [16.3, 54.698, 0.45, 0.03, 18.48],\n",
       " [16.3, 54.698, 0.45, 0.03, 18.48],\n",
       " [16.3, 54.698, 0.45, 0.03, 18.48],\n",
       " [16.3, 54.698, 0.45, 0.03, 18.48],\n",
       " [16.13, 54.8, 0.45, 0.07, 18.48],\n",
       " [16.13, 54.71, 0.45, 0.07, 18.48],\n",
       " [16.13, 54.57, 0.45, 0.07, 18.48],\n",
       " [16.23, 63.27, 0.1, 0.07, 18.63],\n",
       " [16.13, 55.008, 0.45, 0.07, 18.48],\n",
       " [16.13, 54.908, 0.45, 0.07, 18.48],\n",
       " [16.13, 54.818, 0.45, 0.07, 18.48],\n",
       " [16.13, 54.678, 0.45, 0.07, 18.48],\n",
       " [7.11, 62.329, 0.43, 0.027, 21.0],\n",
       " [15.8, 68.23, 0.04, 0.017, 15.9],\n",
       " [24.7, 59.86, 0.015, 0.011, 15.4],\n",
       " [15.6, 64.317, 0.02, 0.004, 17.5],\n",
       " [15.6, 64.188, 0.03, 0.02, 17.6],\n",
       " [15.6, 63.866, 0.01, 0.005, 17.7],\n",
       " [15.32, 64.4774, 0.01, 0.0006, 17.7],\n",
       " [15.4, 69.1557, 0.02, 0.003, 13.09],\n",
       " [15.65, 64.9178, 0.03, 0.074, 17.02],\n",
       " [15.56, 65.0561, 0.03, 0.002, 16.95],\n",
       " [19.85, 52.98, 1.08, 0.05, 24.11],\n",
       " [15.6, 64.317, 0.02, 0.004, 17.5],\n",
       " [15.6, 64.188, 0.03, 0.02, 17.6],\n",
       " [14.0, 66.409, 0.01, 0.02, 17.1],\n",
       " [15.6, 63.866, 0.01, 0.005, 17.7],\n",
       " [15.75, 64.9895, 0.003, 0.002, 16.95],\n",
       " [15.4, 69.1557, 0.02, 0.003, 13.09],\n",
       " [15.65, 64.9178, 0.03, 0.074, 17.02],\n",
       " [15.56, 65.0561, 0.03, 0.002, 16.95],\n",
       " [19.85, 52.98, 1.08, 0.05, 24.11],\n",
       " [12.7, 63.479, 0.48, 0.02, 20.07],\n",
       " [18.57, 52.544, 0.5, 0.022, 25.08],\n",
       " [14.84, 58.676, 0.48, 0.021, 22.68],\n",
       " [14.78, 65.018, 0.5, 0.019, 16.42],\n",
       " [14.87, 60.437, 0.02, 0.018, 22.89],\n",
       " [25.23, 48.623, 0.02, 0.02, 23.01],\n",
       " [14.67, 64.705, 0.02, 0.024, 17.41]]"
      ]
     },
     "execution_count": 217,
     "metadata": {},
     "output_type": "execute_result"
    }
   ],
   "source": [
    "Ltest15"
   ]
  },
  {
   "cell_type": "code",
   "execution_count": 154,
   "metadata": {},
   "outputs": [
    {
     "data": {
      "text/plain": [
       "12"
      ]
     },
     "execution_count": 154,
     "metadata": {},
     "output_type": "execute_result"
    }
   ],
   "source": [
    "#Import training data.\n",
    "x0 = [];x1 = []\n",
    "for i in range(len(L0)):\n",
    "    x0.append([L0[i][2],L0[i][3]])\n",
    "for i in range(len(L1)):\n",
    "    x1.append([L1[i][2],L1[i][3]])\n",
    "num0 = len(x0)\n",
    "num1 = len(x1)\n",
    "x0 = array(x0).T\n",
    "x1 = array(x1).T\n"
   ]
  },
  {
   "cell_type": "code",
   "execution_count": 188,
   "metadata": {
    "collapsed": true
   },
   "outputs": [],
   "source": [
    "x03 = [];x13 = [];x04=[];x14=[];x05=[];x15=[]\n",
    "for i in range(len(L0)):\n",
    "    x03.append([L0[i][2],L0[i][3],L0[i][5]])\n",
    "    x04.append([L0[i][2],L0[i][3],L0[i][5],L0[i][0]])\n",
    "    x05.append([L0[i][2],L0[i][3],L0[i][5],L0[i][0],L0[i][6]])\n",
    "for i in range(len(L1)):\n",
    "    x13.append([L1[i][2],L1[i][3],L1[i][5]])\n",
    "    x14.append([L1[i][2],L1[i][3],L1[i][5],L1[i][0]])\n",
    "    x15.append([L1[i][2],L1[i][3],L1[i][5],L1[i][0],L1[i][6]])\n",
    "x03 = array(x03).T\n",
    "x13 = array(x13).T\n",
    "x04 = array(x04).T\n",
    "x14 = array(x14).T\n",
    "x05 = array(x05).T\n",
    "x15 = array(x15).T\n"
   ]
  },
  {
   "cell_type": "code",
   "execution_count": 190,
   "metadata": {},
   "outputs": [
    {
     "data": {
      "text/plain": [
       "array([[  1.53200000e+01,   1.57500000e+01,   1.40000000e+01,\n",
       "          1.24800000e+01,   1.56000000e+01,   1.39300000e+01,\n",
       "          1.61300000e+01,   1.59700000e+01,   1.57200000e+01,\n",
       "          1.57200000e+01,   1.57200000e+01,   1.57500000e+01],\n",
       "       [  6.44774000e+01,   6.49895000e+01,   6.64090000e+01,\n",
       "          5.88960000e+01,   6.41880000e+01,   6.59640000e+01,\n",
       "          5.49000000e+01,   6.27700000e+01,   6.08673000e+01,\n",
       "          6.08673000e+01,   6.08673000e+01,   6.49895000e+01],\n",
       "       [  1.00000000e-02,   3.00000000e-03,   1.00000000e-02,\n",
       "          4.90000000e-01,   3.00000000e-02,   2.00000000e-02,\n",
       "          4.50000000e-01,   1.00000000e-02,   3.00000000e-02,\n",
       "          3.00000000e-02,   3.00000000e-02,   3.00000000e-03]])"
      ]
     },
     "execution_count": 190,
     "metadata": {},
     "output_type": "execute_result"
    }
   ],
   "source": [
    "x13"
   ]
  },
  {
   "cell_type": "code",
   "execution_count": 206,
   "metadata": {
    "collapsed": true
   },
   "outputs": [],
   "source": [
    "#Parameters of LDA function\n",
    "from numpy import*\n",
    "def lda(x0,x1):\n",
    "    u0lda = mat([mean(x0[i]) for i in range(len(x0))])\n",
    "    u1lda = mat([mean(x1[i]) for i in range(len(x1))])\n",
    "    sigma0 = cov(x0)*(13/25)\n",
    "    sigma1 = cov(x1)*(12/25)\n",
    "    sigma = mat(sigma0+sigma1)\n",
    "    a = sigma.I *(u1lda-u0lda).T\n",
    "    b = -0.5*(u1lda-u0lda)*sigma.I*(u1lda+u0lda).T\n",
    "    return a,b"
   ]
  },
  {
   "cell_type": "code",
   "execution_count": 224,
   "metadata": {},
   "outputs": [
    {
     "data": {
      "text/plain": [
       "matrix([[  270.   ,  1722.475]])"
      ]
     },
     "execution_count": 224,
     "metadata": {},
     "output_type": "execute_result"
    }
   ],
   "source": [
    "mat(Ltest0[0])*a"
   ]
  },
  {
   "cell_type": "code",
   "execution_count": 250,
   "metadata": {
    "collapsed": true
   },
   "outputs": [],
   "source": [
    "#Errorestimat Function\n",
    "from numpy import*\n",
    "def errorestimate(x0,x1,Ltest0,Ltest1):\n",
    "    a,b = lda(x0,x1)\n",
    "    ernum0 = 0\n",
    "    ernum1 = 0\n",
    "    for i in Ltest0:\n",
    "        num = array(i)*a + b\n",
    "        if num > 0:\n",
    "            ernum0 += 1\n",
    "    for j in Ltest1:\n",
    "        num = array(j)*a + b\n",
    "        if num < 0:\n",
    "            ernum1 += 1     \n",
    "    return (ernum0+ernum1)/101"
   ]
  },
  {
   "cell_type": "code",
   "execution_count": 251,
   "metadata": {},
   "outputs": [
    {
     "data": {
      "text/plain": [
       "0.12871287128712872"
      ]
     },
     "execution_count": 251,
     "metadata": {},
     "output_type": "execute_result"
    }
   ],
   "source": [
    "errorestimate(x0,x1,Ltest0,Ltest1)"
   ]
  },
  {
   "cell_type": "code",
   "execution_count": 252,
   "metadata": {},
   "outputs": [
    {
     "data": {
      "text/plain": [
       "0.10891089108910891"
      ]
     },
     "execution_count": 252,
     "metadata": {},
     "output_type": "execute_result"
    }
   ],
   "source": [
    "errorestimate(x03,x13,Ltest03,Ltest13)"
   ]
  },
  {
   "cell_type": "code",
   "execution_count": 253,
   "metadata": {},
   "outputs": [
    {
     "data": {
      "text/plain": [
       "0.1188118811881188"
      ]
     },
     "execution_count": 253,
     "metadata": {},
     "output_type": "execute_result"
    }
   ],
   "source": [
    "errorestimate(x04,x14,Ltest04,Ltest14)"
   ]
  },
  {
   "cell_type": "code",
   "execution_count": 254,
   "metadata": {},
   "outputs": [
    {
     "data": {
      "text/plain": [
       "0.1188118811881188"
      ]
     },
     "execution_count": 254,
     "metadata": {},
     "output_type": "execute_result"
    }
   ],
   "source": [
    "errorestimate(x05,x15,Ltest05,Ltest15)"
   ]
  },
  {
   "cell_type": "code",
   "execution_count": 234,
   "metadata": {},
   "outputs": [
    {
     "name": "stdout",
     "output_type": "stream",
     "text": [
      "[[ 0.58335544]\n",
      " [-1.13780423]]\n",
      "[[ 68.76741451]]\n"
     ]
    }
   ],
   "source": [
    "#Caculate the parameters of LDA classifier\n",
    "from numpy import*\n",
    "from numpy import*\n",
    "u0lda = mat([mean(x0[0]),mean(x0[1])])\n",
    "u1lda = mat([mean(x1[0]),mean(x1[1])])\n",
    "sigma0 = cov(x0)*(num0/(num0+num1))\n",
    "sigma1 = cov(x1)*(num1/(num0+num1))\n",
    "sigma = mat(sigma0 + sigma1)\n",
    "a = sigma.I * (u1lda - u0lda).T\n",
    "b = -0.5*(u1lda-u0lda)*sigma.I*(u1lda+u0lda).T\n",
    "print (a)\n",
    "print (b)"
   ]
  },
  {
   "cell_type": "code",
   "execution_count": 237,
   "metadata": {},
   "outputs": [
    {
     "data": {
      "text/plain": [
       "matrix([[-72.09333472]])"
      ]
     },
     "execution_count": 237,
     "metadata": {},
     "output_type": "execute_result"
    }
   ],
   "source": [
    "array(Ltest0[0])*a"
   ]
  },
  {
   "cell_type": "code",
   "execution_count": 204,
   "metadata": {},
   "outputs": [
    {
     "data": {
      "image/png": "[encoded data removed]",
      "text/plain": [
       "<matplotlib.figure.Figure at 0x11209d860>"
      ]
     },
     "metadata": {},
     "output_type": "display_data"
    }
   ],
   "source": [
    "import matplotlib.pyplot as plt\n",
    "import matplotlib.pyplot as show\n",
    "#Scatter Plot\n",
    "plt.figure(1)\n",
    "plt.plot(x0[0],x0[1],\"ro\",label = \"Y = 0\")\n",
    "plt.plot(x1[0],x1[1],\"bx\",label = \"Y = 1\")\n",
    "#Plot Optimal Classifier\n",
    "x = range(0,20)\n",
    "y = [60.32 + 0.508*i for i in x]\n",
    "plt.plot(x,y,color = \"black\",label = \"LDA boundary\")\n",
    "plt.xlabel(\"Ni(training data)\")\n",
    "plt.ylabel(\"Fe(training data)\")\n",
    "plt.legend()\n",
    "plt.show()"
   ]
  },
  {
   "cell_type": "code",
   "execution_count": 174,
   "metadata": {
    "scrolled": true
   },
   "outputs": [
    {
     "data": {
      "image/png": "[encoded data removed]",
      "text/plain": [
       "<matplotlib.figure.Figure at 0x1a1d9543c8>"
      ]
     },
     "metadata": {},
     "output_type": "display_data"
    }
   ],
   "source": [
    "import matplotlib.pyplot as plt\n",
    "import matplotlib.pyplot as show\n",
    "x0test = array(Ltest0).T\n",
    "x1test = array(Ltest1).T\n",
    "#Scatter Plot\n",
    "plt.figure(1)\n",
    "plt.plot(x0test[0],x0test[1],\"ro\",label = \"Y = 0\")\n",
    "plt.plot(x1test[0],x1test[1],\"bx\",label = \"Y = 1\")\n",
    "#Plot Optimal Classifier\n",
    "x = range(0,30)\n",
    "y = [60.32 + 0.508*i for i in x]\n",
    "plt.plot(x,y,color = \"black\",label = \"LDA boundary\")\n",
    "plt.xlabel(\"Ni(testing data)\")\n",
    "plt.ylabel(\"Fe(testing data)\")\n",
    "plt.legend()\n",
    "plt.show()"
   ]
  },
  {
   "cell_type": "code",
   "execution_count": 179,
   "metadata": {},
   "outputs": [
    {
     "data": {
      "text/plain": [
       "[[15.32, 64.4774, 0.01],\n",
       " [15.75, 64.9895, 0.003],\n",
       " [14.0, 66.409, 0.01],\n",
       " [12.48, 58.896, 0.49],\n",
       " [15.6, 64.188, 0.03],\n",
       " [13.93, 65.964, 0.02],\n",
       " [16.13, 54.9, 0.45],\n",
       " [15.97, 62.77, 0.01],\n",
       " [15.72, 60.8673, 0.03],\n",
       " [15.72, 60.8673, 0.03],\n",
       " [15.72, 60.8673, 0.03],\n",
       " [15.75, 64.9895, 0.003]]"
      ]
     },
     "execution_count": 179,
     "metadata": {},
     "output_type": "execute_result"
    }
   ],
   "source": [
    "x13"
   ]
  },
  {
   "cell_type": "code",
   "execution_count": 180,
   "metadata": {},
   "outputs": [
    {
     "data": {
      "text/plain": [
       "[[15.32, 64.4774, 0.01, 0.0006, 17.7],\n",
       " [15.75, 64.9895, 0.003, 0.002, 16.95],\n",
       " [14.0, 66.409, 0.01, 0.02, 17.1],\n",
       " [12.48, 58.896, 0.49, 0.021, 24.82],\n",
       " [15.6, 64.188, 0.03, 0.02, 17.6],\n",
       " [13.93, 65.964, 0.02, 0.023, 16.85],\n",
       " [16.13, 54.9, 0.45, 0.07, 18.48],\n",
       " [15.97, 62.77, 0.01, 0.03, 18.07],\n",
       " [15.72, 60.8673, 0.03, 0.002, 17.13],\n",
       " [15.72, 60.8673, 0.03, 0.002, 17.13],\n",
       " [15.72, 60.8673, 0.03, 0.002, 17.13],\n",
       " [15.75, 64.9895, 0.003, 0.002, 16.95]]"
      ]
     },
     "execution_count": 180,
     "metadata": {},
     "output_type": "execute_result"
    }
   ],
   "source": [
    "x15"
   ]
  },
  {
   "cell_type": "code",
   "execution_count": null,
   "metadata": {
    "collapsed": true
   },
   "outputs": [],
   "source": []
  }
 ],
 "metadata": {
  "kernelspec": {
   "display_name": "Python 3",
   "language": "python",
   "name": "python3"
  },
  "language_info": {
   "codemirror_mode": {
    "name": "ipython",
    "version": 3
   },
   "file_extension": ".py",
   "mimetype": "text/x-python",
   "name": "python",
   "nbconvert_exporter": "python",
   "pygments_lexer": "ipython3",
   "version": "3.6.2"
  }
 },
 "nbformat": 4,
 "nbformat_minor": 2
}
