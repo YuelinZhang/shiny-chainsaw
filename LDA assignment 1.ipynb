{
 "cells": [
  {
   "cell_type": "code",
   "execution_count": 220,
   "metadata": {},
   "outputs": [
    {
     "name": "stdout",
     "output_type": "stream",
     "text": [
      "52 48\n"
     ]
    }
   ],
   "source": [
    "import matplotlib.pyplot as plt\n",
    "import matplotlib.pyplot as show\n",
    "from numpy import*\n",
    "from scipy.stats import binom\n",
    "mean0 = [0,0]\n",
    "mean1 = [1,1]\n",
    "cov = mat([[1,0.2],[0.2,1]])\n",
    "a = list(binom.rvs(1,0.5,size = 100))\n",
    "num0 = a.count(0)\n",
    "num1 = a.count(1)\n",
    "print(num0,num1)\n",
    "#test sample size = 20. Bionomial\n",
    "#The first class points which label equals 0\n",
    "x0 = random.multivariate_normal(mean0,cov,num0).T\n",
    "x1 = random.multivariate_normal(mean1,cov,num1).T"
   ]
  },
  {
   "cell_type": "code",
   "execution_count": 221,
   "metadata": {},
   "outputs": [
    {
     "name": "stdout",
     "output_type": "stream",
     "text": [
      "[[ 0.83333333]\n",
      " [ 0.83333333]] [[-0.83333333]]\n"
     ]
    }
   ],
   "source": [
    "#Caculate the parameters of optical classifier\n",
    "from numpy import*\n",
    "mean0 = [0,0]\n",
    "mean1 = [1,1]\n",
    "cov = mat([[1,0.2],[0.2,1]])\n",
    "u0 = mat(mean0)\n",
    "u1 = mat(mean1)\n",
    "a = (cov.I)*u1.T\n",
    "b = -0.5*(u1-u0)*cov.I*(u1+u0).T\n",
    "print (a,b)\n",
    "#We can tell the optimal classifier is: X2 = -X1 + 1"
   ]
  },
  {
   "cell_type": "code",
   "execution_count": 222,
   "metadata": {},
   "outputs": [
    {
     "name": "stdout",
     "output_type": "stream",
     "text": [
      "[[ 0.76377881]\n",
      " [ 0.85490789]]\n",
      "[[-0.71709188]]\n"
     ]
    }
   ],
   "source": [
    "#Caculate the parameters of LDA classifier\n",
    "from numpy import*\n",
    "u0lda = mat([mean(x0[0]),mean(x0[1])])\n",
    "u1lda = mat([mean(x1[0]),mean(x1[1])])\n",
    "sigma0 = cov(x0)*(num0/(num0+num1))\n",
    "sigma1 = cov(x1)*(num1/(num0+num1))\n",
    "sigma = mat(sigma0 + sigma1)\n",
    "a = sigma.I * (u1lda - u0lda).T\n",
    "b = -0.5*(u1lda-u0lda)*sigma.I*(u1lda+u0lda).T\n",
    "print (a)\n",
    "print (b)\n",
    "\n",
    "#The LDA classifier is: X2 = 0.46 - 0.476X1"
   ]
  },
  {
   "cell_type": "code",
   "execution_count": 223,
   "metadata": {},
   "outputs": [
    {
     "name": "stdout",
     "output_type": "stream",
     "text": [
      "[[ 0.27027094]]\n"
     ]
    }
   ],
   "source": [
    "from scipy.stats import norm\n",
    "#Caculate LDA error using fomula given in class.\n",
    "p1 = norm.cdf((a.T*u0lda.T+b)/math.sqrt(a.T*sigma*a))\n",
    "p2 = norm.cdf(-(a.T*u1lda.T+b)/math.sqrt(a.T*sigma*a))\n",
    "p = (p1+p2)/2\n",
    "print(p)"
   ]
  },
  {
   "cell_type": "code",
   "execution_count": 205,
   "metadata": {},
   "outputs": [
    {
     "data": {
      "image/png": "[encoded data removed]",
      "text/plain": [
       "<matplotlib.figure.Figure at 0x10e22b860>"
      ]
     },
     "metadata": {},
     "output_type": "display_data"
    }
   ],
   "source": [
    "import matplotlib.pyplot as plt\n",
    "import matplotlib.pyplot as show\n",
    "#Scatter Plot\n",
    "plt.figure(1)\n",
    "plt.plot(x0[0],x0[1],\"ro\",label = \"Y = 0\")\n",
    "plt.plot(x1[0],x1[1],\"bx\",label = \"Y = 1\")\n",
    "#Plot Optimal Classifier\n",
    "x = range(-2,4)\n",
    "y = [(-1.0)*(i-1) for i in x]\n",
    "plt.plot(x,y,color = \"black\",label = \"Optimal\")\n",
    "x = range(-2,4)\n",
    "y = [0.46 - 0.476*i for i in x]\n",
    "plt.plot(x,y,color = \"green\",label = \"LDA\")\n",
    "plt.xlabel(\"QSPRS X1\")\n",
    "plt.ylabel(\"QSPRS X2\")\n",
    "plt.legend()\n",
    "plt.show()"
   ]
  },
  {
   "cell_type": "code",
   "execution_count": 234,
   "metadata": {},
   "outputs": [
    {
     "data": {
      "text/plain": [
       "-0.94682551"
      ]
     },
     "execution_count": 234,
     "metadata": {},
     "output_type": "execute_result"
    }
   ],
   "source": [
    "a20 = [1.98746615,2.04044144]\n",
    "b20 = [-0.94682551]\n",
    "a40 = [0.98656808,0.71559943]\n",
    "b40 = [-0.79590998]\n",
    "a60 = [1.12469609,0.65710453]\n",
    "b60 = [-1.29334251]\n",
    "a80 = [1.33099828,1.11921442]\n",
    "b80 = [-1.3012341]\n",
    "a100 = [0.76377881,0.85490789]\n",
    "b100 = [-0.71709188]"
   ]
  },
  {
   "cell_type": "code",
   "execution_count": 245,
   "metadata": {},
   "outputs": [
    {
     "name": "stdout",
     "output_type": "stream",
     "text": [
      "262 238\n"
     ]
    }
   ],
   "source": [
    "import matplotlib.pyplot as plt\n",
    "import matplotlib.pyplot as show\n",
    "from numpy import*\n",
    "from scipy.stats import binom\n",
    "mean0 = [0,0]\n",
    "mean1 = [1,1]\n",
    "cov = mat([[1,0.2],[0.2,1]])\n",
    "a = list(binom.rvs(1,0.5,size = 500))\n",
    "num0 = a.count(0)\n",
    "num1 = a.count(1)\n",
    "print(num0,num1)\n",
    "#test sample size = 20. Bionomial\n",
    "#The first class points which label equals 0\n",
    "x0 = random.multivariate_normal(mean0,cov,num0).T\n",
    "x1 = random.multivariate_normal(mean1,cov,num1).T\n",
    "def f(a,b,x1,x2):\n",
    "    y = x1*a[0] + x2*a[1]+b[0]\n",
    "    return y\n",
    "\n",
    "num020,num040,num060,num080,num0100 = 0,0,0,0,0\n",
    "num120,num140,num160,num180,num1100 = 0,0,0,0,0\n",
    "for i in x0.T:\n",
    "    if f(a20,b20,i[0],i[1]) > 0:\n",
    "        num020 += 1\n",
    "    if f(a40,b40,i[0],i[1]) > 0:\n",
    "        num040 += 1\n",
    "    if f(a60,b60,i[0],i[1]) > 0:\n",
    "        num060 += 1\n",
    "    if f(a80,b80,i[0],i[1]) > 0:\n",
    "        num080 += 1\n",
    "    if f(a100,b100,i[0],i[1]) > 0:\n",
    "        num0100 += 1\n",
    "for i in x1.T:\n",
    "    if f(a20,b20,i[0],i[1]) < 0:\n",
    "        num120 += 1\n",
    "    if f(a40,b40,i[0],i[1]) < 0:\n",
    "        num140 += 1\n",
    "    if f(a60,b60,i[0],i[1]) < 0:\n",
    "        num160 += 1\n",
    "    if f(a80,b80,i[0],i[1]) < 0:\n",
    "        num180 += 1\n",
    "    if f(a100,b100,i[0],i[1]) < 0:\n",
    "        num1100 += 1"
   ]
  },
  {
   "cell_type": "code",
   "execution_count": 255,
   "metadata": {},
   "outputs": [
    {
     "data": {
      "image/png": "[encoded data removed]",
      "text/plain": [
       "<matplotlib.figure.Figure at 0x1a1690a438>"
      ]
     },
     "metadata": {},
     "output_type": "display_data"
    }
   ],
   "source": [
    "import matplotlib.pyplot as plt\n",
    "import matplotlib.pyplot as show\n",
    "x = [20,40,60,80,100]\n",
    "y1 = [0.097,0.23,0.27,0.21,0.27]\n",
    "y2 = [(num020+num120)/500,(num040+num140)/500,\n",
    "      (num060+num160)/500,(num080+num180)/500,\n",
    "      (num0100+num1100)/500,]\n",
    "plt.figure(1)\n",
    "plt.plot(x,y1,\"b-\",label=\"By fomula\")\n",
    "plt.plot(x,y2,\"r-\",label=\"By simulating\")\n",
    "plt.xlabel(\"size n\")\n",
    "plt.ylabel(\"LDA error\")\n",
    "plt.legend()\n",
    "plt.show()"
   ]
  },
  {
   "cell_type": "code",
   "execution_count": 247,
   "metadata": {},
   "outputs": [
    {
     "data": {
      "text/plain": [
       "141"
      ]
     },
     "execution_count": 247,
     "metadata": {},
     "output_type": "execute_result"
    }
   ],
   "source": [
    "num020+num120"
   ]
  },
  {
   "cell_type": "code",
   "execution_count": 248,
   "metadata": {},
   "outputs": [
    {
     "data": {
      "text/plain": [
       "123"
      ]
     },
     "execution_count": 248,
     "metadata": {},
     "output_type": "execute_result"
    }
   ],
   "source": [
    "num040+num140"
   ]
  },
  {
   "cell_type": "code",
   "execution_count": 249,
   "metadata": {},
   "outputs": [
    {
     "data": {
      "text/plain": [
       "132"
      ]
     },
     "execution_count": 249,
     "metadata": {},
     "output_type": "execute_result"
    }
   ],
   "source": [
    "num060+num160"
   ]
  },
  {
   "cell_type": "code",
   "execution_count": 250,
   "metadata": {},
   "outputs": [
    {
     "data": {
      "text/plain": [
       "123"
      ]
     },
     "execution_count": 250,
     "metadata": {},
     "output_type": "execute_result"
    }
   ],
   "source": [
    "num080+num180"
   ]
  },
  {
   "cell_type": "code",
   "execution_count": 251,
   "metadata": {},
   "outputs": [
    {
     "data": {
      "text/plain": [
       "133"
      ]
     },
     "execution_count": 251,
     "metadata": {},
     "output_type": "execute_result"
    }
   ],
   "source": [
    "num0100+num1100"
   ]
  },
  {
   "cell_type": "code",
   "execution_count": 253,
   "metadata": {},
   "outputs": [
    {
     "data": {
      "text/plain": [
       "[0.282, 0.246, 0.264, 0.246, 0.266]"
      ]
     },
     "execution_count": 253,
     "metadata": {},
     "output_type": "execute_result"
    }
   ],
   "source": [
    "y2"
   ]
  },
  {
   "cell_type": "code",
   "execution_count": null,
   "metadata": {
    "collapsed": true
   },
   "outputs": [],
   "source": []
  }
 ],
 "metadata": {
  "kernelspec": {
   "display_name": "Python 3",
   "language": "python",
   "name": "python3"
  },
  "language_info": {
   "codemirror_mode": {
    "name": "ipython",
    "version": 3
   },
   "file_extension": ".py",
   "mimetype": "text/x-python",
   "name": "python",
   "nbconvert_exporter": "python",
   "pygments_lexer": "ipython3",
   "version": "3.6.2"
  }
 },
 "nbformat": 4,
 "nbformat_minor": 2
}
